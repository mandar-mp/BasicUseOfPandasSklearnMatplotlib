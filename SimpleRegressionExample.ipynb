{
 "cells": [
  {
   "cell_type": "markdown",
   "metadata": {},
   "source": [
    "This is a simple linear regression program that explains how to import file using pandas, how to use matplotlib,\n",
    "and how to use sklearn for linear regression.\n"
   ]
  },
  {
   "cell_type": "code",
   "execution_count": 2,
   "metadata": {},
   "outputs": [
    {
     "name": "stderr",
     "output_type": "stream",
     "text": [
      "C:\\Users\\mandar\\Anaconda3\\lib\\site-packages\\sklearn\\cross_validation.py:41: DeprecationWarning: This module was deprecated in version 0.18 in favor of the model_selection module into which all the refactored classes and functions are moved. Also note that the interface of the new CV iterators are different from that of this module. This module will be removed in 0.20.\n",
      "  \"This module will be removed in 0.20.\", DeprecationWarning)\n"
     ]
    }
   ],
   "source": [
    "from sklearn.linear_model import LinearRegression\n",
    "from sklearn.cross_validation import train_test_split\n",
    "import pandas as p\n",
    "import numpy as np\n",
    "import matplotlib.pyplot as plt"
   ]
  },
  {
   "cell_type": "code",
   "execution_count": 4,
   "metadata": {},
   "outputs": [
    {
     "name": "stdout",
     "output_type": "stream",
     "text": [
      "    exp  salary\n",
      "0     1      10\n",
      "1     2      20\n",
      "2     3      30\n",
      "3     4      40\n",
      "4     5      50\n",
      "5     6      60\n",
      "6     7      70\n",
      "7     8      80\n",
      "8     9      90\n",
      "9    10     100\n",
      "10   11     110\n",
      "11   12     120\n",
      "12   13     130\n",
      "13   14     140\n",
      "14   15     150\n",
      "15   16     160\n",
      "16   17     170\n",
      "17   18     180\n",
      "18   19     190\n",
      "19   20     200\n",
      "20   21     210\n"
     ]
    }
   ],
   "source": [
    "data=p.read_csv(\"D:/MachineLearning/SimpleRegressionExample/SimpleRegressionExample.csv\")\n",
    "print(data)\n",
    "\n",
    "\n"
   ]
  },
  {
   "cell_type": "code",
   "execution_count": 10,
   "metadata": {},
   "outputs": [
    {
     "name": "stdout",
     "output_type": "stream",
     "text": [
      "2      3\n",
      "4      5\n",
      "10    11\n",
      "13    14\n",
      "8      9\n",
      "12    13\n",
      "16    17\n",
      "5      6\n",
      "3      4\n",
      "11    12\n",
      "6      7\n",
      "20    21\n",
      "19    20\n",
      "18    19\n",
      "Name: exp, dtype: int64\n"
     ]
    }
   ],
   "source": [
    "#split data set into train and test set\n",
    "x_train,x_test,y_train,y_test=train_test_split(data.exp,data.salary,test_size=0.3,random_state=None)\n",
    "print(x_train)\n"
   ]
  },
  {
   "cell_type": "code",
   "execution_count": 12,
   "metadata": {},
   "outputs": [
    {
     "data": {
      "image/png": "[encoded data removed]",
      "text/plain": [
       "<matplotlib.figure.Figure at 0xb0ac2e8>"
      ]
     },
     "metadata": {},
     "output_type": "display_data"
    }
   ],
   "source": [
    "#display scatter plot of entire data set\n",
    "plt.scatter(data.exp,data.salary,color='red')\n",
    "#display scatter plot of test data set\n",
    "plt.scatter(x_test,y_test, color='green')\n",
    "plt.show()"
   ]
  },
  {
   "cell_type": "code",
   "execution_count": null,
   "metadata": {},
   "outputs": [],
   "source": []
  },
  {
   "cell_type": "code",
   "execution_count": 15,
   "metadata": {},
   "outputs": [],
   "source": [
    "#reshape function converts each element into an array\n",
    "x_train=x_train.reshape(-1,1)\n",
    "y_train=y_train.reshape(-1,1)\n",
    "x_test=x_test.reshape(-1,1)\n"
   ]
  },
  {
   "cell_type": "code",
   "execution_count": 17,
   "metadata": {},
   "outputs": [
    {
     "data": {
      "text/plain": [
       "LinearRegression(copy_X=True, fit_intercept=True, n_jobs=1, normalize=False)"
      ]
     },
     "execution_count": 17,
     "metadata": {},
     "output_type": "execute_result"
    }
   ],
   "source": [
    "#create instance of linear regression and train the model using fit function\n",
    "lreg=LinearRegression()\n",
    "lreg.fit(x_train,y_train)\n",
    "\n"
   ]
  },
  {
   "cell_type": "code",
   "execution_count": 30,
   "metadata": {},
   "outputs": [
    {
     "name": "stdout",
     "output_type": "stream",
     "text": [
      "7      80\n",
      "0      10\n",
      "1      20\n",
      "17    180\n",
      "15    160\n",
      "9     100\n",
      "14    150\n",
      "Name: salary, dtype: int64 [[ 80.]\n",
      " [ 10.]\n",
      " [ 20.]\n",
      " [180.]\n",
      " [160.]\n",
      " [100.]\n",
      " [150.]]\n"
     ]
    },
    {
     "data": {
      "image/png": "[encoded data removed]",
      "text/plain": [
       "<matplotlib.figure.Figure at 0xb0d0898>"
      ]
     },
     "metadata": {},
     "output_type": "display_data"
    }
   ],
   "source": [
    "#plot a graph of training set in red colour & then graph of test values and predicted y values in green colour\n",
    "plt.scatter(x_train,y_train,color='red')\n",
    "plt.scatter(x_test,y_test,color='black')\n",
    "#plt.plot(x_test,y_test,color='blue')\n",
    "print(y_test,lreg.predict(x_test))\n",
    "#plt.scatter(x_test,lreg.predict(x_test),color='green')\n",
    "\n",
    "plt.show()"
   ]
  },
  {
   "cell_type": "code",
   "execution_count": 29,
   "metadata": {},
   "outputs": [
    {
     "name": "stdout",
     "output_type": "stream",
     "text": [
      "[[10.]]\n"
     ]
    }
   ],
   "source": [
    "#from sklearn.metrics import mean_squared_error\n",
    "#mse=mean_squared_error(y_test, lreg.predict(x_test))\n",
    "#print('mean squared error=',mse)\n",
    "\n",
    "print(lreg.coef_)\n",
    "#print(lreg.intercept_)"
   ]
  },
  {
   "cell_type": "code",
   "execution_count": null,
   "metadata": {},
   "outputs": [],
   "source": []
  }
 ],
 "metadata": {
  "kernelspec": {
   "display_name": "Python 3",
   "language": "python",
   "name": "python3"
  },
  "language_info": {
   "codemirror_mode": {
    "name": "ipython",
    "version": 3
   },
   "file_extension": ".py",
   "mimetype": "text/x-python",
   "name": "python",
   "nbconvert_exporter": "python",
   "pygments_lexer": "ipython3",
   "version": "3.6.4"
  }
 },
 "nbformat": 4,
 "nbformat_minor": 2
}
